{
 "cells": [
  {
   "cell_type": "code",
   "execution_count": 37,
   "metadata": {},
   "outputs": [],
   "source": [
    "%reload_ext ipython_unittest"
   ]
  },
  {
   "cell_type": "code",
   "execution_count": 38,
   "metadata": {},
   "outputs": [],
   "source": [
    "from typing import List, Dict, Union, Any, Optional\n",
    "\n",
    "class Solution:\n",
    "    def productExceptSelf(self, nums: List[int]) -> List[int]:\n",
    "        left = [1 for _ in nums]\n",
    "        right = [1 for _ in nums]\n",
    "        for i in range(len(nums) - 1):\n",
    "            n = nums[i]\n",
    "            if i == 0:\n",
    "                left[i + 1] = n\n",
    "            else:\n",
    "                left[i + 1] = left[i] * n\n",
    "        \n",
    "        for i in range(len(nums) - 1, 0, -1):\n",
    "            n = nums[i]\n",
    "            if i == len(nums) - 1:\n",
    "                right[len(nums) - i] = n\n",
    "            else:\n",
    "                right[len(nums) - i] = right[len(nums) - i - 1] * n\n",
    "\n",
    "        right = right[::-1]\n",
    "        ret = []\n",
    "        for l, r in zip(left, right):\n",
    "            ret.append(l * r)\n",
    "        \n",
    "        return ret\n",
    "    \n",
    "\n",
    "solution = Solution()\n",
    "method = [func for func in dir(Solution) if callable(getattr(Solution, func)) and not func.startswith(\"__\")][0]"
   ]
  },
  {
   "cell_type": "code",
   "execution_count": 39,
   "metadata": {},
   "outputs": [
    {
     "data": {
      "application/unittest.status+json": {
       "color": "yellow",
       "message": "",
       "previous": 0
      },
      "text/plain": []
     },
     "metadata": {},
     "output_type": "display_data"
    },
    {
     "name": "stdout",
     "output_type": "stream",
     "text": [
      "[1, 1, 2, 6] [24, 12, 4, 1]\n",
      "[1, -1, -1, 0, 0] [0, 0, -9, 3, 1]\n"
     ]
    },
    {
     "data": {
      "application/unittest.status+json": {
       "color": "lightgreen",
       "message": ".\n----------------------------------------------------------------------\nRan 1 test in 0.000s\n\nOK\n",
       "previous": 0
      },
      "text/plain": [
       "Success"
      ]
     },
     "metadata": {},
     "output_type": "display_data"
    },
    {
     "name": "stdout",
     "output_type": "stream",
     "text": [
      ".\n",
      "----------------------------------------------------------------------\n",
      "Ran 1 test in 0.000s\n",
      "\n",
      "OK\n"
     ]
    },
    {
     "data": {
      "text/plain": [
       "<unittest.runner.TextTestResult run=1 errors=0 failures=0>"
      ]
     },
     "execution_count": 39,
     "metadata": {},
     "output_type": "execute_result"
    }
   ],
   "source": [
    "%%unittest_testcase\n",
    "\n",
    "def test(self):\n",
    "    examples = [\n",
    "        {\"input\": [1,2,3,4], 'output': [24,12,8,6]},\n",
    "        {'input': [-1,1,0,-3,3], 'output': [0,0,9,0,0]},\n",
    "    ]\n",
    "\n",
    "    for example in examples:\n",
    "        self.assertEqual(getattr(solution, method)(example['input']), example['output'])\n"
   ]
  },
  {
   "cell_type": "code",
   "execution_count": null,
   "metadata": {},
   "outputs": [],
   "source": []
  }
 ],
 "metadata": {
  "kernelspec": {
   "display_name": "study",
   "language": "python",
   "name": "python3"
  },
  "language_info": {
   "codemirror_mode": {
    "name": "ipython",
    "version": 3
   },
   "file_extension": ".py",
   "mimetype": "text/x-python",
   "name": "python",
   "nbconvert_exporter": "python",
   "pygments_lexer": "ipython3",
   "version": "3.10.0"
  },
  "orig_nbformat": 4
 },
 "nbformat": 4,
 "nbformat_minor": 2
}
