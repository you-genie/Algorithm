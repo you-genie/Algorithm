{
 "cells": [
  {
   "cell_type": "code",
   "execution_count": 47,
   "metadata": {},
   "outputs": [],
   "source": [
    "%reload_ext ipython_unittest"
   ]
  },
  {
   "cell_type": "code",
   "execution_count": 48,
   "metadata": {},
   "outputs": [],
   "source": [
    "from typing import List, Dict, Union, Any, Optional\n",
    "\n",
    "class Solution:\n",
    "    def threeSum(self, nums: List[int]) -> List[List[int]]:\n",
    "        ret = []\n",
    "        sorted_nums = sorted(nums)\n",
    "\n",
    "        for i in range(len(sorted_nums) - 2): # i, j, k는 서로 달라야 한다\n",
    "            if sorted_nums[i] > 0:\n",
    "                break\n",
    "            elif i > 0 and sorted_nums[i] == sorted_nums[i - 1]: # 이전 루프와 중복값인 경우. 이미 연산되었기 때문에 굳이 다시 연산해주지 않는다.\n",
    "                continue\n",
    "            else:\n",
    "                j, k = i+1, len(sorted_nums)-1\n",
    "\n",
    "                while j < k:\n",
    "                    # 계속해서 포인터를 좁혀나간다.\n",
    "                    if sorted_nums[j] + sorted_nums[k] + sorted_nums[i] > 0:\n",
    "                        k -= 1\n",
    "                    elif sorted_nums[j] + sorted_nums[k] + sorted_nums[i] < 0:\n",
    "                        j += 1\n",
    "                    else:\n",
    "                        ret.append([sorted_nums[i], sorted_nums[j], sorted_nums[k]])\n",
    "                        while j < k and sorted_nums[j] == sorted_nums[j + 1]:\n",
    "                            j += 1\n",
    "                        while j < k and sorted_nums[k] == sorted_nums[k - 1]:\n",
    "                            k -= 1\n",
    "                        \n",
    "                        j += 1\n",
    "                        k -= 1\n",
    "\n",
    "        return ret\n",
    "    \n",
    "\n",
    "solution = Solution()\n",
    "method = [func for func in dir(Solution) if callable(getattr(Solution, func)) and not func.startswith(\"__\")][0]"
   ]
  },
  {
   "cell_type": "code",
   "execution_count": 49,
   "metadata": {},
   "outputs": [
    {
     "data": {
      "application/unittest.status+json": {
       "color": "yellow",
       "message": "",
       "previous": 0
      },
      "text/plain": []
     },
     "metadata": {},
     "output_type": "display_data"
    },
    {
     "name": "stdout",
     "output_type": "stream",
     "text": [
      "[[-1, -1, 2], [-1, 0, 1]]\n",
      "[]\n",
      "[[0, 0, 0]]\n",
      "[[0, 0, 0]]\n"
     ]
    },
    {
     "data": {
      "application/unittest.status+json": {
       "color": "lightgreen",
       "message": ".\n----------------------------------------------------------------------\nRan 1 test in 0.000s\n\nOK\n",
       "previous": 0
      },
      "text/plain": [
       "Success"
      ]
     },
     "metadata": {},
     "output_type": "display_data"
    },
    {
     "name": "stdout",
     "output_type": "stream",
     "text": [
      ".\n",
      "----------------------------------------------------------------------\n",
      "Ran 1 test in 0.000s\n",
      "\n",
      "OK\n"
     ]
    },
    {
     "data": {
      "text/plain": [
       "<unittest.runner.TextTestResult run=1 errors=0 failures=0>"
      ]
     },
     "execution_count": 49,
     "metadata": {},
     "output_type": "execute_result"
    }
   ],
   "source": [
    "%%unittest_testcase\n",
    "\n",
    "def test(self):\n",
    "    examples = [\n",
    "        {\"input\": [-1,0,1,2,-1,-4], 'output': [[-1,-1,2],[-1,0,1]]},\n",
    "        {'input': [0,1,1], 'output': []},\n",
    "        {'input': [0,0,0], 'output': [[0, 0, 0]]},\n",
    "        {'input': [0,0,0,0], 'output': [[0, 0, 0]]}\n",
    "    ]\n",
    "\n",
    "    for example in examples:\n",
    "        print(getattr(solution, method)(example['input']))\n",
    "        self.assertCountEqual(getattr(solution, method)(example['input']), example['output'])\n"
   ]
  },
  {
   "cell_type": "code",
   "execution_count": null,
   "metadata": {},
   "outputs": [],
   "source": []
  }
 ],
 "metadata": {
  "kernelspec": {
   "display_name": "study",
   "language": "python",
   "name": "python3"
  },
  "language_info": {
   "codemirror_mode": {
    "name": "ipython",
    "version": 3
   },
   "file_extension": ".py",
   "mimetype": "text/x-python",
   "name": "python",
   "nbconvert_exporter": "python",
   "pygments_lexer": "ipython3",
   "version": "3.10.0"
  },
  "orig_nbformat": 4
 },
 "nbformat": 4,
 "nbformat_minor": 2
}
