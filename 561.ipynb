{
 "cells": [
  {
   "cell_type": "code",
   "execution_count": 1,
   "metadata": {},
   "outputs": [],
   "source": [
    "%reload_ext ipython_unittest"
   ]
  },
  {
   "attachments": {},
   "cell_type": "markdown",
   "metadata": {},
   "source": [
    "### Solution 이유\n",
    "* 위에서부터 두 개씩 묶으면 가능한 이유?\n",
    "\t* 만약에 위에서부터 두 개씩 묶이지 않은 것이 optimal이라고 가정했을 경우, 다음과 같이 pair가 짜여진다\n",
    "\t\t* S = optimal solution\n",
    "\t\t* S1, S0: 각각 두 번째로 큰, 가장 큰 원소\n",
    "\t\t* (S1-Sn), (S0-Sm) paired라고 가정한다. (만약 S1-S0이었다면 S0이 들어갔을 것)\n",
    "\t\t\t* S_other = S - Sm - Sn\n",
    "\t\t* S' := (S0-S1), (Sm-Sn) (Sm > Sn) 으로 계산했을 때의 묶음.\n",
    "\t\t\t* S' = S1 + Sn + S_other이다 (나머지는 변하지 않았기 때문\n",
    "\t\t* S' - S = S1 - Sn >= 0 (sorted되었기 때문)\n",
    "\t\t\t* 따라서 위에서부터 두 개씩 묶으면 optimal."
   ]
  },
  {
   "cell_type": "code",
   "execution_count": 2,
   "metadata": {},
   "outputs": [],
   "source": [
    "from typing import List, Dict, Union, Any, Optional\n",
    "\n",
    "class Solution:\n",
    "    def arrayPairSum(self, nums: List[int]) -> int:\n",
    "        sorted_nums = sorted(nums)\n",
    "        return sum(sorted_nums[::2])\n",
    "    \n",
    "\n",
    "solution = Solution()\n",
    "method = [func for func in dir(Solution) if callable(getattr(Solution, func)) and not func.startswith(\"__\")][0]"
   ]
  },
  {
   "cell_type": "code",
   "execution_count": 3,
   "metadata": {},
   "outputs": [
    {
     "data": {
      "application/unittest.status+json": {
       "color": "yellow",
       "message": "",
       "previous": 0
      },
      "text/plain": []
     },
     "metadata": {},
     "output_type": "display_data"
    },
    {
     "data": {
      "application/unittest.status+json": {
       "color": "lightgreen",
       "message": ".\n----------------------------------------------------------------------\nRan 1 test in 0.000s\n\nOK\n",
       "previous": 0
      },
      "text/plain": [
       "Success"
      ]
     },
     "metadata": {},
     "output_type": "display_data"
    },
    {
     "name": "stdout",
     "output_type": "stream",
     "text": [
      ".\n",
      "----------------------------------------------------------------------\n",
      "Ran 1 test in 0.000s\n",
      "\n",
      "OK\n"
     ]
    },
    {
     "data": {
      "text/plain": [
       "<unittest.runner.TextTestResult run=1 errors=0 failures=0>"
      ]
     },
     "execution_count": 3,
     "metadata": {},
     "output_type": "execute_result"
    }
   ],
   "source": [
    "%%unittest_testcase\n",
    "\n",
    "def test(self):\n",
    "    examples = [\n",
    "        {\"input\": [1,4,3,2], 'output': 4},\n",
    "        {'input': [6,2,6,5,1,2], 'output': 9},\n",
    "    ]\n",
    "\n",
    "    for example in examples:\n",
    "        self.assertEqual(getattr(solution, method)(example['input']), example['output'])\n"
   ]
  },
  {
   "cell_type": "code",
   "execution_count": null,
   "metadata": {},
   "outputs": [],
   "source": []
  }
 ],
 "metadata": {
  "kernelspec": {
   "display_name": "study",
   "language": "python",
   "name": "python3"
  },
  "language_info": {
   "codemirror_mode": {
    "name": "ipython",
    "version": 3
   },
   "file_extension": ".py",
   "mimetype": "text/x-python",
   "name": "python",
   "nbconvert_exporter": "python",
   "pygments_lexer": "ipython3",
   "version": "3.10.0"
  },
  "orig_nbformat": 4
 },
 "nbformat": 4,
 "nbformat_minor": 2
}
